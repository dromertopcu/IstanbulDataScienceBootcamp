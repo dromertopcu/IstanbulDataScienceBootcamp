{
 "cells": [
  {
   "cell_type": "markdown",
   "id": "c3ed4ecf",
   "metadata": {},
   "source": [
    "Data Structures"
   ]
  },
  {
   "cell_type": "markdown",
   "id": "0704142a",
   "metadata": {},
   "source": [
    "|->Primitive"
   ]
  },
  {
   "cell_type": "markdown",
   "id": "19c2b25b",
   "metadata": {},
   "source": [
    "|->Non-Primitive"
   ]
  },
  {
   "cell_type": "code",
   "execution_count": 1,
   "id": "fd798e2b",
   "metadata": {},
   "outputs": [
    {
     "name": "stdout",
     "output_type": "stream",
     "text": [
      "<class 'int'>\n",
      "<class 'float'>\n",
      "<class 'complex'>\n"
     ]
    }
   ],
   "source": [
    "x = 1\n",
    "y = 2.8\n",
    "z = 1j\n",
    "\n",
    "print(type(x))\n",
    "print(type(y))\n",
    "print(type(z))"
   ]
  },
  {
   "cell_type": "code",
   "execution_count": 2,
   "id": "d23ed49a",
   "metadata": {},
   "outputs": [],
   "source": [
    "tuple1 = (1,3.5,\"Salman\",True,1j)\n"
   ]
  },
  {
   "cell_type": "code",
   "execution_count": 14,
   "id": "b80fcb4f",
   "metadata": {},
   "outputs": [
    {
     "data": {
      "text/plain": [
       "4"
      ]
     },
     "execution_count": 14,
     "metadata": {},
     "output_type": "execute_result"
    }
   ],
   "source": [
    "tuple1.index(1j)"
   ]
  },
  {
   "cell_type": "code",
   "execution_count": 15,
   "id": "12c15c0f",
   "metadata": {},
   "outputs": [],
   "source": [
    "list1 = [\"salman\",45,6.954,False,\"anything\"]"
   ]
  },
  {
   "cell_type": "code",
   "execution_count": 16,
   "id": "45e9b1dd",
   "metadata": {},
   "outputs": [],
   "source": [
    "list1.append(24)"
   ]
  },
  {
   "cell_type": "code",
   "execution_count": 17,
   "id": "47ac10ba",
   "metadata": {},
   "outputs": [
    {
     "data": {
      "text/plain": [
       "['salman', 45, 6.954, False, 'anything', 24]"
      ]
     },
     "execution_count": 17,
     "metadata": {},
     "output_type": "execute_result"
    }
   ],
   "source": [
    "list1"
   ]
  },
  {
   "cell_type": "code",
   "execution_count": 18,
   "id": "48f0ef70",
   "metadata": {},
   "outputs": [],
   "source": [
    "string1 = \"sşlfksdşlf şl akfşa şlakf\""
   ]
  },
  {
   "cell_type": "code",
   "execution_count": null,
   "id": "fc7c175d",
   "metadata": {},
   "outputs": [],
   "source": [
    "string1.split"
   ]
  },
  {
   "cell_type": "code",
   "execution_count": 34,
   "id": "af4a5415",
   "metadata": {},
   "outputs": [
    {
     "name": "stdout",
     "output_type": "stream",
     "text": [
      "96\n",
      "80\n"
     ]
    }
   ],
   "source": [
    "import sys\n",
    "a_list=list()\n",
    "a_tuple=tuple()\n",
    "a_list= [1,2,3,4,5]\n",
    "a_tuple= (1,2,3,4,5)\n",
    "print(sys.getsizeof(a_list))\n",
    "print(sys.getsizeof(a_tuple))"
   ]
  },
  {
   "cell_type": "code",
   "execution_count": 35,
   "id": "2bfdffa4",
   "metadata": {},
   "outputs": [],
   "source": [
    "dict1 = { \"Thriller\" : 1982, \"Back in Black\" : 1980}"
   ]
  },
  {
   "cell_type": "code",
   "execution_count": 36,
   "id": "79812198",
   "metadata": {},
   "outputs": [
    {
     "data": {
      "text/plain": [
       "{'Thriller': 1982, 'Back in Black': 1980}"
      ]
     },
     "execution_count": 36,
     "metadata": {},
     "output_type": "execute_result"
    }
   ],
   "source": [
    "dict1"
   ]
  },
  {
   "cell_type": "code",
   "execution_count": 37,
   "id": "9a524f4e",
   "metadata": {},
   "outputs": [],
   "source": [
    "dict1[\"Graduation\"] = 2017"
   ]
  },
  {
   "cell_type": "code",
   "execution_count": 38,
   "id": "6ee9e707",
   "metadata": {},
   "outputs": [
    {
     "data": {
      "text/plain": [
       "{'Thriller': 1982, 'Back in Black': 1980, 'Graduation': 2017}"
      ]
     },
     "execution_count": 38,
     "metadata": {},
     "output_type": "execute_result"
    }
   ],
   "source": [
    "dict1"
   ]
  },
  {
   "cell_type": "code",
   "execution_count": 39,
   "id": "b5fb8eff",
   "metadata": {},
   "outputs": [
    {
     "name": "stdout",
     "output_type": "stream",
     "text": [
      "dict_keys(['Thriller', 'Back in Black', 'Graduation'])\n"
     ]
    }
   ],
   "source": [
    "print(dict1.keys())"
   ]
  },
  {
   "cell_type": "code",
   "execution_count": 41,
   "id": "dedeb452",
   "metadata": {},
   "outputs": [
    {
     "name": "stdout",
     "output_type": "stream",
     "text": [
      "dict_values([1982, 1980, 2017])\n"
     ]
    }
   ],
   "source": [
    "print(dict1.values())"
   ]
  },
  {
   "cell_type": "code",
   "execution_count": null,
   "id": "24cefa3f",
   "metadata": {},
   "outputs": [],
   "source": []
  }
 ],
 "metadata": {
  "kernelspec": {
   "display_name": "Python 3 (ipykernel)",
   "language": "python",
   "name": "python3"
  },
  "language_info": {
   "codemirror_mode": {
    "name": "ipython",
    "version": 3
   },
   "file_extension": ".py",
   "mimetype": "text/x-python",
   "name": "python",
   "nbconvert_exporter": "python",
   "pygments_lexer": "ipython3",
   "version": "3.8.13"
  }
 },
 "nbformat": 4,
 "nbformat_minor": 5
}
